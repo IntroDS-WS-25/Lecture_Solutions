{
 "cells": [
  {
   "cell_type": "markdown",
   "id": "1471b8e8",
   "metadata": {},
   "source": [
    "## Exercise\n",
    "\n",
    "### Task: Create a Grading System for Student Performance\n",
    "\n",
    "__Scenario:__ You are tasked with creating a simple grading system for a school. The school follows a system where students are graded based on their total score in three subjects: Math, Science, and English. The total score is out of 300, with each subject being out of 100. Based on the total score, students are assigned a letter grade.\n",
    "\n",
    "You need to write a Python program that defines functions to compute the total score, calculate the average, and assign the appropriate grade based on certain conditions.\n"
   ]
  },
  {
   "cell_type": "markdown",
   "id": "5fe3d667",
   "metadata": {},
   "source": [
    "#### Requirements:\n",
    "\n",
    "#### 1. Create a function `calculate_total`:\n",
    "\n",
    "- This function should accept three parameters: `math_score`, `science_score`, and `english_score`.\n",
    "- It should calculate and return the total score by adding these three values together."
   ]
  },
  {
   "cell_type": "code",
   "execution_count": 1,
   "id": "ff080a33",
   "metadata": {},
   "outputs": [],
   "source": [
    "def calculate_total(math_score, science_score, english_score):\n",
    "    total_score = math_score + science_score + english_score\n",
    "    return total_score"
   ]
  },
  {
   "cell_type": "markdown",
   "id": "1cf68029",
   "metadata": {},
   "source": [
    "#### 2. Create a function `calculate_average`:\n",
    "\n",
    "- This function should accept the total score as a parameter.\n",
    "- It should calculate the average by dividing the total score by 3.\n",
    "- Return the average value."
   ]
  },
  {
   "cell_type": "code",
   "execution_count": 2,
   "id": "2e30e64a",
   "metadata": {},
   "outputs": [],
   "source": [
    "def calculate_average(total_score):\n",
    "    return total_score / 3"
   ]
  },
  {
   "cell_type": "markdown",
   "id": "88aa4f0d",
   "metadata": {},
   "source": [
    "#### 3. Create a function `assign_grade`\n",
    "\n",
    "This function should accept the **average score** as a parameter.\n",
    "\n",
    "Based on the average score, assign a letter grade using the following conditions:\n",
    "\n",
    "- **Grade A**: Average >= 90\n",
    "- **Grade B**: Average >= 80 but less than 90\n",
    "- **Grade C**: Average >= 70 but less than 80\n",
    "- **Grade D**: Average >= 60 but less than 70\n",
    "- **Grade F**: Average < 60\n",
    "\n",
    "Return the corresponding grade as a string.\n"
   ]
  },
  {
   "cell_type": "code",
   "execution_count": 5,
   "id": "a34ffe55",
   "metadata": {},
   "outputs": [],
   "source": [
    "def assign_grade(average_score):\n",
    "    if average_score >= 90:\n",
    "        return 'A'\n",
    "    elif average_score >= 80:\n",
    "        return 'B'\n",
    "    elif average_score >= 70:\n",
    "        return 'C'\n",
    "    elif average_score >= 60:\n",
    "        return 'D'\n",
    "    else:\n",
    "        return 'F'"
   ]
  },
  {
   "cell_type": "markdown",
   "id": "5b57b48f",
   "metadata": {},
   "source": [
    "#### 4. Create a main function to bring everything together\n",
    "\n",
    "In the `main` function:\n",
    "\n",
    "- Prompt the user to input the scores for **Math**, **Science**, and **English**.\n",
    "    - Hint: to query an input from the user, you need to use the `input()` function, e.g. `input(\"Please enter Math score: \")`\n",
    "- Call the `calculate_total` function to get the total score.\n",
    "- Call the `calculate_average` function to compute the average score.\n",
    "- Call the `assign_grade` function to assign a grade based on the average.\n",
    "- Finally, print the total score, the average, and the assigned grade.\n"
   ]
  },
  {
   "cell_type": "code",
   "execution_count": 3,
   "id": "30100026",
   "metadata": {},
   "outputs": [],
   "source": [
    "def main():\n",
    "    math_score = float(input(\"Enter Math score: \"))\n",
    "    science_score = float(input(\"Enter Science score: \"))\n",
    "    english_score = float(input(\"Enter English score: \"))\n",
    "\n",
    "    total_score = calculate_total(math_score, science_score, english_score)\n",
    "    average_score = calculate_average(total_score)\n",
    "    grade = assign_grade(average_score)\n",
    "\n",
    "    print(f\"Total Score: {total_score}\")\n",
    "    print(f\"Average Score: {average_score:.2f}\")\n",
    "    print(f\"Grade: {grade}\")"
   ]
  },
  {
   "cell_type": "markdown",
   "id": "7ca3274d",
   "metadata": {
    "vscode": {
     "languageId": "plaintext"
    }
   },
   "source": [
    "#### 5. Run your program and test it with some sample inputs"
   ]
  },
  {
   "cell_type": "code",
   "execution_count": 6,
   "id": "3a13f978",
   "metadata": {},
   "outputs": [
    {
     "name": "stdout",
     "output_type": "stream",
     "text": [
      "Total Score: 180.0\n",
      "Average Score: 60.00\n",
      "Grade: D\n"
     ]
    }
   ],
   "source": [
    "main()"
   ]
  },
  {
   "cell_type": "markdown",
   "id": "128144d6",
   "metadata": {},
   "source": [
    "#### 5.  Handle invalid inputs (optional)\n",
    "\n",
    "If the user enters a score that is not between **0 and 100**:\n",
    "\n",
    "- Display an error message indicating that the score is invalid.\n",
    "- Prompt the user to enter a valid score within the range of 0 to 100.\n",
    "- Continue prompting the user until a valid score is entered."
   ]
  },
  {
   "cell_type": "code",
   "execution_count": 11,
   "id": "5f9c0222",
   "metadata": {},
   "outputs": [],
   "source": [
    "def get_score(subject):\n",
    "    while True:\n",
    "        try:\n",
    "            score = float(input(f\"Enter {subject} score (0-100): \"))\n",
    "            if 0 <= score <= 100:\n",
    "                return score\n",
    "            else:\n",
    "                print(\"Score must be between 0 and 100. Please try again.\")\n",
    "        except ValueError:\n",
    "            print(\"Invalid input. Please enter a numeric value.\")"
   ]
  },
  {
   "cell_type": "code",
   "execution_count": 12,
   "id": "4ca43de3",
   "metadata": {},
   "outputs": [],
   "source": [
    "def main():\n",
    "    math_score = get_score(\"Math\")\n",
    "    science_score = get_score(\"Science\")\n",
    "    english_score = get_score(\"English\")\n",
    "\n",
    "    total_score = calculate_total(math_score, science_score, english_score)\n",
    "    average_score = calculate_average(total_score)\n",
    "    grade = assign_grade(average_score)\n",
    "\n",
    "    print(f\"Total Score: {total_score}\")\n",
    "    print(f\"Average Score: {average_score:.2f}\")\n",
    "    print(f\"Grade: {grade}\")"
   ]
  },
  {
   "cell_type": "code",
   "execution_count": 14,
   "id": "0cfe8508",
   "metadata": {},
   "outputs": [
    {
     "name": "stdout",
     "output_type": "stream",
     "text": [
      "Score must be between 0 and 100. Please try again.\n",
      "Score must be between 0 and 100. Please try again.\n",
      "Score must be between 0 and 100. Please try again.\n",
      "Score must be between 0 and 100. Please try again.\n",
      "Score must be between 0 and 100. Please try again.\n",
      "Score must be between 0 and 100. Please try again.\n",
      "Total Score: 25.0\n",
      "Average Score: 8.33\n",
      "Grade: F\n"
     ]
    }
   ],
   "source": [
    "main()"
   ]
  }
 ],
 "metadata": {
  "kernelspec": {
   "display_name": "env",
   "language": "python",
   "name": "python3"
  },
  "language_info": {
   "codemirror_mode": {
    "name": "ipython",
    "version": 3
   },
   "file_extension": ".py",
   "mimetype": "text/x-python",
   "name": "python",
   "nbconvert_exporter": "python",
   "pygments_lexer": "ipython3",
   "version": "3.11.0"
  }
 },
 "nbformat": 4,
 "nbformat_minor": 5
}
